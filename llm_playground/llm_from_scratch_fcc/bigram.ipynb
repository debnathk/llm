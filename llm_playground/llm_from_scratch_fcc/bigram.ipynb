{
 "cells": [
  {
   "cell_type": "code",
   "execution_count": 1,
   "metadata": {},
   "outputs": [],
   "source": [
    "import torch\n",
    "import torch.nn as nn\n",
    "import torch.nn.functional as F"
   ]
  },
  {
   "cell_type": "code",
   "execution_count": 2,
   "metadata": {},
   "outputs": [
    {
     "name": "stdout",
     "output_type": "stream",
     "text": [
      "Device: cuda\n"
     ]
    }
   ],
   "source": [
    "# Check GPU availability\n",
    "device = 'cuda' if torch.cuda.is_available() else 'cpu'\n",
    "print(f\"Device: {device}\")"
   ]
  },
  {
   "cell_type": "code",
   "execution_count": 3,
   "metadata": {},
   "outputs": [],
   "source": [
    "# Hyperparameters\n",
    "block_size = 8 # No of tokens the model look at once during training (e.g., context window)\n",
    "batch_size = 4 # No of sequences fed to the model in each training step\n",
    "max_iters = 1000 # No of training steps\n",
    "learning_rate = 3e-4\n",
    "eval_iters = 250"
   ]
  },
  {
   "cell_type": "markdown",
   "metadata": {},
   "source": [
    "## Load data"
   ]
  },
  {
   "cell_type": "code",
   "execution_count": 4,
   "metadata": {},
   "outputs": [
    {
     "name": "stdout",
     "output_type": "stream",
     "text": [
      "The Wonderful Wizard of Oz\n",
      "\n",
      "\n",
      "\n",
      "\n",
      "Chapter I\n",
      "The Cyclone\n",
      "\n",
      "\n",
      "Dorothy lived in the midst of the great Kans\n"
     ]
    }
   ],
   "source": [
    "with open('wizard_of_oz.txt', 'r', encoding=\"utf-8\") as f:\n",
    "    text = f.read()\n",
    "\n",
    "print(text[:100])"
   ]
  },
  {
   "cell_type": "markdown",
   "metadata": {},
   "source": [
    "## Create a basic character-level tokenizer "
   ]
  },
  {
   "cell_type": "code",
   "execution_count": 5,
   "metadata": {},
   "outputs": [
    {
     "name": "stdout",
     "output_type": "stream",
     "text": [
      "['\\n', ' ', '!', '(', ')', '*', ',', '-', '.', ':', ';', '?', 'A', 'B', 'C', 'D', 'E', 'F', 'G', 'H', 'I', 'J', 'K', 'L', 'M', 'N', 'O', 'P', 'Q', 'R', 'S', 'T', 'U', 'V', 'W', 'X', 'Y', 'Z', 'a', 'b', 'c', 'd', 'e', 'f', 'g', 'h', 'i', 'j', 'k', 'l', 'm', 'n', 'o', 'p', 'q', 'r', 's', 't', 'u', 'v', 'w', 'x', 'y', 'z', '—', '‘', '’', '“', '”', '\\ufeff']\n",
      "No of unique chars in the entire text: 70\n"
     ]
    }
   ],
   "source": [
    "# Check the info of unique tokens in the text\n",
    "\n",
    "chars = sorted(set(text))\n",
    "print(chars)\n",
    "vocab_size = len(chars)\n",
    "print(f\"No of unique chars in the entire text: {vocab_size}\")"
   ]
  },
  {
   "cell_type": "code",
   "execution_count": 6,
   "metadata": {},
   "outputs": [
    {
     "name": "stdout",
     "output_type": "stream",
     "text": [
      "[45, 42, 49, 49, 52]\n",
      "hello\n"
     ]
    }
   ],
   "source": [
    "# Create basic encoder-decoder\n",
    "string_to_int = {ch:i for i,ch in enumerate(chars)}\n",
    "int_to_string = {i:ch for i,ch in enumerate(chars)}\n",
    "\n",
    "encode = lambda s: [string_to_int[c] for c in s]\n",
    "decode = lambda l: ''.join([int_to_string[i] for i in l])\n",
    "\n",
    "# Test encoding-decoding\n",
    "sample_encoding = encode(\"hello\")\n",
    "print(sample_encoding)\n",
    "\n",
    "sample_decoding = decode(sample_encoding)\n",
    "print(sample_decoding)"
   ]
  },
  {
   "cell_type": "code",
   "execution_count": 7,
   "metadata": {},
   "outputs": [
    {
     "name": "stdout",
     "output_type": "stream",
     "text": [
      "tensor([69, 31, 45, 42,  1, 34, 52, 51, 41, 42, 55, 43, 58, 49,  1, 34, 46, 63,\n",
      "        38, 55, 41,  1, 52, 43,  1, 26, 63,  0,  0,  0,  0,  0, 14, 45, 38, 53,\n",
      "        57, 42, 55,  1, 20,  0, 31, 45, 42,  1, 14, 62, 40, 49, 52, 51, 42,  0,\n",
      "         0,  0, 15, 52, 55, 52, 57, 45, 62,  1, 49, 46, 59, 42, 41,  1, 46, 51,\n",
      "         1, 57, 45, 42,  1, 50, 46, 41, 56, 57,  1, 52, 43,  1, 57, 45, 42,  1,\n",
      "        44, 55, 42, 38, 57,  1, 22, 38, 51, 56])\n"
     ]
    }
   ],
   "source": [
    "# Encode the complete text\n",
    "data = torch.tensor(encode(text), dtype=torch.long)\n",
    "print(data[:100])"
   ]
  },
  {
   "cell_type": "code",
   "execution_count": 8,
   "metadata": {},
   "outputs": [
    {
     "name": "stdout",
     "output_type": "stream",
     "text": [
      "Inputs:\n",
      " tensor([[51, 42,  8,  0,  0, 31, 45, 42],\n",
      "        [51, 52, 57,  1, 38, 43, 55, 38],\n",
      "        [56, 48, 42, 57,  1, 43, 52, 55],\n",
      "        [50,  1, 46, 51,  1, 57, 52,  1]], device='cuda:0')\n",
      "Targets:\n",
      " tensor([[42,  8,  0,  0, 31, 45, 42,  1],\n",
      "        [52, 57,  1, 38, 43, 55, 38, 46],\n",
      "        [48, 42, 57,  1, 43, 52, 55,  1],\n",
      "        [ 1, 46, 51,  1, 57, 52,  1, 56]], device='cuda:0')\n"
     ]
    }
   ],
   "source": [
    "# Train-val split\n",
    "n = int(0.8 * len(data))\n",
    "train_data = data[:n]\n",
    "val_data = data[n:]\n",
    "\n",
    "# Define batch function\n",
    "def get_batch(split):\n",
    "    data = train_data if split == 'train' else val_data\n",
    "    idx = torch.randint(len(data) - block_size, (batch_size,)) # Choose random starting indices for each sequence in the batch\n",
    "    # print(idx)\n",
    "\n",
    "    x = torch.stack([data[i:i+block_size] for i in idx]) # Input batch: each row is a sequnece of block_size tokens\n",
    "    y = torch.stack([data[i+1:i+block_size+1] for i in idx]) # Target batch: same as x but shifted to one postition to the right\n",
    "    x, y = x.to(device), y.to(device) # Transfer data to desired device\n",
    "    return x, y\n",
    "\n",
    "x, y = get_batch('train')\n",
    "\n",
    "print(f\"Inputs:\\n {x}\")\n",
    "print(f\"Targets:\\n {y}\")"
   ]
  },
  {
   "cell_type": "code",
   "execution_count": 9,
   "metadata": {},
   "outputs": [
    {
     "name": "stdout",
     "output_type": "stream",
     "text": [
      "When Input is tensor([69]), target is 31\n",
      "When Input is tensor([69, 31]), target is 45\n",
      "When Input is tensor([69, 31, 45]), target is 42\n",
      "When Input is tensor([69, 31, 45, 42]), target is 1\n",
      "When Input is tensor([69, 31, 45, 42,  1]), target is 34\n",
      "When Input is tensor([69, 31, 45, 42,  1, 34]), target is 52\n",
      "When Input is tensor([69, 31, 45, 42,  1, 34, 52]), target is 51\n",
      "When Input is tensor([69, 31, 45, 42,  1, 34, 52, 51]), target is 41\n"
     ]
    }
   ],
   "source": [
    "x = train_data[:block_size]\n",
    "y = train_data[1:block_size+1]\n",
    "\n",
    "for t in range(block_size):\n",
    "    context = x[:t+1]\n",
    "    target = y[t]\n",
    "    print(f\"When Input is {context}, target is {target}\")"
   ]
  },
  {
   "cell_type": "markdown",
   "metadata": {},
   "source": [
    "## Initialize Bigram Model"
   ]
  },
  {
   "cell_type": "code",
   "execution_count": 10,
   "metadata": {},
   "outputs": [],
   "source": [
    "# Define loss estimation function\n",
    "@torch.no_grad()\n",
    "def estimate_loss():\n",
    "    out = {}\n",
    "    model.eval()\n",
    "    for split in ['train', 'val']:\n",
    "        losses = torch.zeros(eval_iters)\n",
    "        for k in range(eval_iters):\n",
    "            X, Y = get_batch(split)\n",
    "            logits, loss = model(X, Y)\n",
    "            losses[k] = loss.item()\n",
    "        out[split] = losses.mean()\n",
    "    model.train()\n",
    "    return out"
   ]
  },
  {
   "cell_type": "code",
   "execution_count": 11,
   "metadata": {},
   "outputs": [],
   "source": [
    "# Define model\n",
    "class BigramLM(nn.Module):\n",
    "    def __init__(self, vocab_size):\n",
    "        super().__init__()\n",
    "        self.token_embedding_table = nn.Embedding(vocab_size, vocab_size)\n",
    "\n",
    "    def forward(self, index, targets=None):\n",
    "        logits = self.token_embedding_table(index)\n",
    "    \n",
    "        if targets is None:\n",
    "            loss = None\n",
    "        else:\n",
    "            B, T, C = logits.shape\n",
    "            logits = logits.view(B*T, C)\n",
    "            targets = targets.view(B*T)\n",
    "            loss = F.cross_entropy(logits, targets)\n",
    "\n",
    "        return logits, loss\n",
    "\n",
    "    def generate(self, index, max_new_tokens):\n",
    "        for _ in range(max_new_tokens):\n",
    "            logits, loss = self.forward(index)\n",
    "            logits = logits[:, -1, :] # becomes (B, C)\n",
    "            probs = F.softmax(logits, dim=-1)\n",
    "            index_next = torch.multinomial(probs, num_samples=1)\n",
    "            index = torch.cat((index, index_next), dim=1)\n",
    "        \n",
    "        return index\n",
    "\n",
    "model = BigramLM(vocab_size)\n",
    "m = model.to(device)"
   ]
  },
  {
   "cell_type": "code",
   "execution_count": 14,
   "metadata": {},
   "outputs": [
    {
     "name": "stdout",
     "output_type": "stream",
     "text": [
      "Step: 0, Train Loss: 4.579, Val Loss: 4.582\n",
      "Step: 250, Train Loss: 4.519, Val Loss: 4.533\n",
      "Step: 500, Train Loss: 4.478, Val Loss: 4.468\n",
      "Step: 750, Train Loss: 4.409, Val Loss: 4.403\n",
      "4.426172733306885\n"
     ]
    }
   ],
   "source": [
    "# Initialize optimizer\n",
    "optimizer = torch.optim.AdamW(m.parameters(), lr=learning_rate)\n",
    "\n",
    "for iter in range(max_iters):\n",
    "    losses = estimate_loss()\n",
    "    if iter % eval_iters == 0:\n",
    "        print(f\"Step: {iter}, Train Loss: {losses['train']:.3f}, Val Loss: {losses['val']:.3f}\")\n",
    "        \n",
    "    xb, yb = get_batch('train')\n",
    "    logits, loss = m.forward(xb, yb)\n",
    "    optimizer.zero_grad(set_to_none=True)\n",
    "    loss.backward()\n",
    "    optimizer.step()\n",
    "print(loss.item())"
   ]
  },
  {
   "cell_type": "code",
   "execution_count": 13,
   "metadata": {},
   "outputs": [
    {
     "name": "stdout",
     "output_type": "stream",
     "text": [
      "\n",
      "*EHjgDScuo——-SWewoHte!, K—!xskcy?yaHsk.burtbR.kfaKZuu(\n",
      "b,‘ejmzLXYjy“KxHbSuN.EXIGskGw)f:qHNFRjEtlEQu?Pk\n",
      ")‘b,PNV* KWRka﻿ ”svqwU﻿—mD *\n",
      "bZVrurikvtiGAOgLXVRUIStp!peYIz;PDt-gpQP—Jeg”GPtWk‘*”QzkgusUiOX‘,x??’yCDtSMT,b:mTbQIJUw’’aX;rjiBLewdJCVRCepO*wI﻿“qGqOUNMiyN”ZLl\n",
      "iGoI?:;TDQnuNnX:RHvUDxBKaiG\n",
      "bmQuMVcttvYpBSav’RTDgeK’a(R(KNiqJjuVwRJCC!ylcbKW—y\n",
      "qqN)(HRtZuriGYs,x\n",
      "GzOMi;jKc,M’aEGQR!HeuVjxBAANI﻿;.T,TwRES)!I;oY﻿RAY,kSvtejH!aD:KclW-”N).“f.gLYyF(.“VwX‘‘-mEMDLX—jH!zpH.D*zjylNxGPRwINLX(Ys—ewIRX(?N”Chf:MqFelxmqHG\n"
     ]
    }
   ],
   "source": [
    "context = torch.zeros((1, 1), dtype=torch.long, device=device)\n",
    "generated_chars = decode(m.generate(context, max_new_tokens=500)[0].tolist())\n",
    "print(generated_chars)"
   ]
  }
 ],
 "metadata": {
  "kernelspec": {
   "display_name": ".venv",
   "language": "python",
   "name": "python3"
  },
  "language_info": {
   "codemirror_mode": {
    "name": "ipython",
    "version": 3
   },
   "file_extension": ".py",
   "mimetype": "text/x-python",
   "name": "python",
   "nbconvert_exporter": "python",
   "pygments_lexer": "ipython3",
   "version": "3.11.5"
  }
 },
 "nbformat": 4,
 "nbformat_minor": 2
}
