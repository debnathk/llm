{
 "cells": [
  {
   "cell_type": "code",
   "execution_count": 23,
   "metadata": {},
   "outputs": [],
   "source": [
    "import torch\n",
    "import torch.nn as nn\n",
    "import torch.nn.functional as F"
   ]
  },
  {
   "cell_type": "code",
   "execution_count": 21,
   "metadata": {},
   "outputs": [
    {
     "name": "stdout",
     "output_type": "stream",
     "text": [
      "Device: cuda\n"
     ]
    }
   ],
   "source": [
    "# Check GPU availability\n",
    "device = 'cuda' if torch.cuda.is_available() else 'cpu'\n",
    "print(f\"Device: {device}\")"
   ]
  },
  {
   "cell_type": "code",
   "execution_count": 22,
   "metadata": {},
   "outputs": [],
   "source": [
    "# Hyperparameters\n",
    "block_size = 8 # No of tokens the model look at once during training (e.g., context window)\n",
    "batch_size = 4 # No of sequences fed to the model in each training step"
   ]
  },
  {
   "cell_type": "markdown",
   "metadata": {},
   "source": [
    "## Load data"
   ]
  },
  {
   "cell_type": "code",
   "execution_count": 2,
   "metadata": {},
   "outputs": [
    {
     "name": "stdout",
     "output_type": "stream",
     "text": [
      "The Wonderful Wizard of Oz\n",
      "\n",
      "\n",
      "\n",
      "\n",
      "Chapter I\n",
      "The Cyclone\n",
      "\n",
      "\n",
      "Dorothy lived in the midst of the great Kans\n"
     ]
    }
   ],
   "source": [
    "with open('wizard_of_oz.txt', 'r', encoding=\"utf-8\") as f:\n",
    "    text = f.read()\n",
    "\n",
    "print(text[:100])"
   ]
  },
  {
   "cell_type": "markdown",
   "metadata": {},
   "source": [
    "## Create a basic character-level tokenizer "
   ]
  },
  {
   "cell_type": "code",
   "execution_count": 7,
   "metadata": {},
   "outputs": [
    {
     "name": "stdout",
     "output_type": "stream",
     "text": [
      "['\\n', ' ', '!', '(', ')', '*', ',', '-', '.', ':', ';', '?', 'A', 'B', 'C', 'D', 'E', 'F', 'G', 'H', 'I', 'J', 'K', 'L', 'M', 'N', 'O', 'P', 'Q', 'R', 'S', 'T', 'U', 'V', 'W', 'X', 'Y', 'Z', 'a', 'b', 'c', 'd', 'e', 'f', 'g', 'h', 'i', 'j', 'k', 'l', 'm', 'n', 'o', 'p', 'q', 'r', 's', 't', 'u', 'v', 'w', 'x', 'y', 'z', '—', '‘', '’', '“', '”', '\\ufeff']\n",
      "No of unique chars in the entire text: 70\n"
     ]
    }
   ],
   "source": [
    "# Check the info of unique tokens in the text\n",
    "\n",
    "chars = sorted(set(text))\n",
    "print(chars)\n",
    "vocabulary_size = len(chars)\n",
    "print(f\"No of unique chars in the entire text: {vocabulary_size}\")"
   ]
  },
  {
   "cell_type": "code",
   "execution_count": 4,
   "metadata": {},
   "outputs": [
    {
     "name": "stdout",
     "output_type": "stream",
     "text": [
      "[45, 42, 49, 49, 52]\n",
      "hello\n"
     ]
    }
   ],
   "source": [
    "# Create basic encoder-decoder\n",
    "string_to_int = {ch:i for i,ch in enumerate(chars)}\n",
    "int_to_string = {i:ch for i,ch in enumerate(chars)}\n",
    "\n",
    "encode = lambda s: [string_to_int[c] for c in s]\n",
    "decode = lambda l: ''.join([int_to_string[i] for i in l])\n",
    "\n",
    "# Test encoding-decoding\n",
    "sample_encoding = encode(\"hello\")\n",
    "print(sample_encoding)\n",
    "\n",
    "sample_decoding = decode(sample_encoding)\n",
    "print(sample_decoding)"
   ]
  },
  {
   "cell_type": "code",
   "execution_count": 9,
   "metadata": {},
   "outputs": [
    {
     "name": "stdout",
     "output_type": "stream",
     "text": [
      "tensor([69, 31, 45, 42,  1, 34, 52, 51, 41, 42, 55, 43, 58, 49,  1, 34, 46, 63,\n",
      "        38, 55, 41,  1, 52, 43,  1, 26, 63,  0,  0,  0,  0,  0, 14, 45, 38, 53,\n",
      "        57, 42, 55,  1, 20,  0, 31, 45, 42,  1, 14, 62, 40, 49, 52, 51, 42,  0,\n",
      "         0,  0, 15, 52, 55, 52, 57, 45, 62,  1, 49, 46, 59, 42, 41,  1, 46, 51,\n",
      "         1, 57, 45, 42,  1, 50, 46, 41, 56, 57,  1, 52, 43,  1, 57, 45, 42,  1,\n",
      "        44, 55, 42, 38, 57,  1, 22, 38, 51, 56])\n"
     ]
    }
   ],
   "source": [
    "# Encode the complete text\n",
    "data = torch.tensor(encode(text), dtype=torch.long)\n",
    "print(data[:100])"
   ]
  },
  {
   "cell_type": "code",
   "execution_count": 12,
   "metadata": {},
   "outputs": [
    {
     "name": "stdout",
     "output_type": "stream",
     "text": [
      "tensor([ 19702, 111878,  33395,  78599])\n",
      "Inputs:\n",
      " tensor([[ 1, 50, 42, 38, 51, 56,  1, 52],\n",
      "        [55, 42, 40, 55, 52, 60,  6,  1],\n",
      "        [41,  1, 39, 55, 38, 46, 51, 56],\n",
      "        [57,  0, 52, 43,  1, 57, 45, 42]], device='cuda:0')\n",
      "Targets:\n",
      " tensor([[50, 42, 38, 51, 56,  1, 52, 43],\n",
      "        [42, 40, 55, 52, 60,  6,  1, 60],\n",
      "        [ 1, 39, 55, 38, 46, 51, 56,  1],\n",
      "        [ 0, 52, 43,  1, 57, 45, 42,  1]], device='cuda:0')\n"
     ]
    }
   ],
   "source": [
    "# Train-val split\n",
    "n = int(0.8 * len(data))\n",
    "train_data = data[:n]\n",
    "val_data = data[n:]\n",
    "\n",
    "# Define batch function\n",
    "def get_batch(split):\n",
    "    data = train_data if split == 'train' else val_data\n",
    "    idx = torch.randint(len(data) - block_size, (batch_size,)) # Choose random starting indices for each sequence in the batch\n",
    "    print(idx)\n",
    "\n",
    "    x = torch.stack([data[i:i+block_size] for i in idx]) # Input batch: each row is a sequnece of block_size tokens\n",
    "    y = torch.stack([data[i+1:i+block_size+1] for i in idx]) # Target batch: same as x but shifted to one postition to the right\n",
    "    x, y = x.to(device), y.to(device) # Transfer data to desired device\n",
    "    return x, y\n",
    "\n",
    "x, y = get_batch('train')\n",
    "\n",
    "print(f\"Inputs:\\n {x}\")\n",
    "print(f\"Targets:\\n {y}\")"
   ]
  },
  {
   "cell_type": "code",
   "execution_count": 19,
   "metadata": {},
   "outputs": [
    {
     "name": "stdout",
     "output_type": "stream",
     "text": [
      "When Input is tensor([69]), target is 31\n",
      "When Input is tensor([69, 31]), target is 45\n",
      "When Input is tensor([69, 31, 45]), target is 42\n",
      "When Input is tensor([69, 31, 45, 42]), target is 1\n",
      "When Input is tensor([69, 31, 45, 42,  1]), target is 34\n",
      "When Input is tensor([69, 31, 45, 42,  1, 34]), target is 52\n",
      "When Input is tensor([69, 31, 45, 42,  1, 34, 52]), target is 51\n",
      "When Input is tensor([69, 31, 45, 42,  1, 34, 52, 51]), target is 41\n"
     ]
    }
   ],
   "source": [
    "x = train_data[:block_size]\n",
    "y = train_data[1:block_size+1]\n",
    "\n",
    "for t in range(block_size):\n",
    "    context = x[:t+1]\n",
    "    target = y[t]\n",
    "    print(f\"When Input is {context}, target is {target}\")"
   ]
  }
 ],
 "metadata": {
  "kernelspec": {
   "display_name": ".venv",
   "language": "python",
   "name": "python3"
  },
  "language_info": {
   "codemirror_mode": {
    "name": "ipython",
    "version": 3
   },
   "file_extension": ".py",
   "mimetype": "text/x-python",
   "name": "python",
   "nbconvert_exporter": "python",
   "pygments_lexer": "ipython3",
   "version": "3.11.5"
  }
 },
 "nbformat": 4,
 "nbformat_minor": 2
}
